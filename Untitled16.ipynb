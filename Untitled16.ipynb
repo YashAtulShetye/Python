{
  "nbformat": 4,
  "nbformat_minor": 0,
  "metadata": {
    "colab": {
      "provenance": []
    },
    "kernelspec": {
      "name": "python3",
      "display_name": "Python 3"
    },
    "language_info": {
      "name": "python"
    }
  },
  "cells": [
    {
      "cell_type": "code",
      "execution_count": 3,
      "metadata": {
        "colab": {
          "base_uri": "https://localhost:8080/",
          "height": 872
        },
        "id": "5j77Ht30QbxW",
        "outputId": "25749126-a1ae-4f40-a24f-fc473b491114"
      },
      "outputs": [
        {
          "output_type": "stream",
          "name": "stdout",
          "text": [
            "    diet_group     sex  mean_ghgs  mean_land  mean_watscar   mean_eut  \\\n",
            "0         fish  female   4.968593   6.642189  18142.183297  21.039700   \n",
            "1         fish    male   5.298139   7.064051  18989.043980  22.421531   \n",
            "2  meat eaters  female   8.062997  14.908660  19628.209002  31.177572   \n",
            "3  meat eaters    male   8.455050  15.597563  20104.249298  33.261315   \n",
            "4        vegan  female   2.595872   4.460947  15031.051051  11.342248   \n",
            "5        vegan    male   2.629250   4.560444  15593.925346  11.580149   \n",
            "6       veggie  female   4.398438   6.368289  16126.603061  17.365486   \n",
            "7       veggie    male   4.638384   6.715724  16813.849032  18.367171   \n",
            "\n",
            "   mean_ghgs_ch4    mean_bio  mean_watuse  mean_acid  \n",
            "0       0.848570  252.598677   779.138802  23.566312  \n",
            "1       0.871103  262.109388   817.971582  24.637250  \n",
            "2       1.641832  330.596661   867.206463  35.193596  \n",
            "3       1.716540  345.122755   879.722198  36.774306  \n",
            "4       0.157535  124.951898   443.190339  11.518848  \n",
            "5       0.145106  123.783734   456.848543  11.678317  \n",
            "6       0.774993  249.389861   553.787094  21.244554  \n",
            "7       0.782592  256.334069   584.829581  22.083737  \n"
          ]
        },
        {
          "output_type": "display_data",
          "data": {
            "text/html": [
              "<html>\n",
              "<head><meta charset=\"utf-8\" /></head>\n",
              "<body>\n",
              "    <div>            <script src=\"https://cdnjs.cloudflare.com/ajax/libs/mathjax/2.7.5/MathJax.js?config=TeX-AMS-MML_SVG\"></script><script type=\"text/javascript\">if (window.MathJax && window.MathJax.Hub && window.MathJax.Hub.Config) {window.MathJax.Hub.Config({SVG: {font: \"STIX-Web\"}});}</script>                <script type=\"text/javascript\">window.PlotlyConfig = {MathJaxConfig: 'local'};</script>\n",
              "        <script charset=\"utf-8\" src=\"https://cdn.plot.ly/plotly-2.35.2.min.js\"></script>                <div id=\"126025cc-e3b5-4b43-9065-7ba3d3244fda\" class=\"plotly-graph-div\" style=\"height:525px; width:100%;\"></div>            <script type=\"text/javascript\">                                    window.PLOTLYENV=window.PLOTLYENV || {};                                    if (document.getElementById(\"126025cc-e3b5-4b43-9065-7ba3d3244fda\")) {                    Plotly.newPlot(                        \"126025cc-e3b5-4b43-9065-7ba3d3244fda\",                        [{\"line\":{\"color\":\"blue\",\"dash\":\"dash\",\"width\":3},\"marker\":{\"size\":6},\"mode\":\"lines+markers\",\"name\":\"fish - female\",\"r\":[0.4049580320655866,0.1958622165793616,0.6132487033280303,0.44242083314945313,0.4476575944422355,0.5819802678005787,0.7695852113765216,0.4770241723011627,0.4049580320655866],\"theta\":[\"mean_ghgs\",\"mean_land\",\"mean_watscar\",\"mean_eut\",\"mean_ghgs_ch4\",\"mean_bio\",\"mean_watuse\",\"mean_acid\",\"mean_ghgs\"],\"type\":\"scatterpolar\"},{\"line\":{\"color\":\"blue\",\"dash\":\"solid\",\"width\":3},\"marker\":{\"size\":6},\"mode\":\"lines+markers\",\"name\":\"fish - male\",\"r\":[0.4612024357800786,0.233742853519235,0.7801770671413593,0.5054632569524903,0.4619967848473484,0.6249492450119332,0.8585427061442255,0.5194283997417746,0.4612024357800786],\"theta\":[\"mean_ghgs\",\"mean_land\",\"mean_watscar\",\"mean_eut\",\"mean_ghgs_ch4\",\"mean_bio\",\"mean_watuse\",\"mean_acid\",\"mean_ghgs\"],\"type\":\"scatterpolar\"},{\"line\":{\"color\":\"red\",\"dash\":\"dash\",\"width\":3},\"marker\":{\"size\":6},\"mode\":\"lines+markers\",\"name\":\"meat eaters - female\",\"r\":[0.9330874006735355,0.9381407505258201,0.9061656430378786,0.9049346747605016,0.952459192178511,0.934371740962315,0.9713291613838183,0.9374111840902051,0.9330874006735355],\"theta\":[\"mean_ghgs\",\"mean_land\",\"mean_watscar\",\"mean_eut\",\"mean_ghgs_ch4\",\"mean_bio\",\"mean_watuse\",\"mean_acid\",\"mean_ghgs\"],\"type\":\"scatterpolar\"},{\"line\":{\"color\":\"red\",\"dash\":\"solid\",\"width\":3},\"marker\":{\"size\":6},\"mode\":\"lines+markers\",\"name\":\"meat eaters - male\",\"r\":[1.0,1.0,1.0,1.0,1.0,1.0,1.0,1.0,1.0],\"theta\":[\"mean_ghgs\",\"mean_land\",\"mean_watscar\",\"mean_eut\",\"mean_ghgs_ch4\",\"mean_bio\",\"mean_watuse\",\"mean_acid\",\"mean_ghgs\"],\"type\":\"scatterpolar\"},{\"line\":{\"color\":\"green\",\"dash\":\"dash\",\"width\":3},\"marker\":{\"size\":6},\"mode\":\"lines+markers\",\"name\":\"veggie - female\",\"r\":[0.307648393718487,0.1712676901829398,0.2159489846812914,0.27479445187358825,0.4008358375654387,0.5674829769289915,0.2533532269368783,0.38509326800674976,0.307648393718487],\"theta\":[\"mean_ghgs\",\"mean_land\",\"mean_watscar\",\"mean_eut\",\"mean_ghgs_ch4\",\"mean_bio\",\"mean_watuse\",\"mean_acid\",\"mean_ghgs\"],\"type\":\"scatterpolar\"},{\"line\":{\"color\":\"green\",\"dash\":\"solid\",\"width\":3},\"marker\":{\"size\":6},\"mode\":\"lines+markers\",\"name\":\"veggie - male\",\"r\":[0.3486005184150782,0.20246524485911693,0.3514150036870454,0.32049370016684453,0.4056718119217396,0.5988566055302939,0.32446484431813355,0.41832104838754913,0.3486005184150782],\"theta\":[\"mean_ghgs\",\"mean_land\",\"mean_watscar\",\"mean_eut\",\"mean_ghgs_ch4\",\"mean_bio\",\"mean_watuse\",\"mean_acid\",\"mean_ghgs\"],\"type\":\"scatterpolar\"}],                        {\"template\":{\"data\":{\"histogram2dcontour\":[{\"type\":\"histogram2dcontour\",\"colorbar\":{\"outlinewidth\":0,\"ticks\":\"\"},\"colorscale\":[[0.0,\"#0d0887\"],[0.1111111111111111,\"#46039f\"],[0.2222222222222222,\"#7201a8\"],[0.3333333333333333,\"#9c179e\"],[0.4444444444444444,\"#bd3786\"],[0.5555555555555556,\"#d8576b\"],[0.6666666666666666,\"#ed7953\"],[0.7777777777777778,\"#fb9f3a\"],[0.8888888888888888,\"#fdca26\"],[1.0,\"#f0f921\"]]}],\"choropleth\":[{\"type\":\"choropleth\",\"colorbar\":{\"outlinewidth\":0,\"ticks\":\"\"}}],\"histogram2d\":[{\"type\":\"histogram2d\",\"colorbar\":{\"outlinewidth\":0,\"ticks\":\"\"},\"colorscale\":[[0.0,\"#0d0887\"],[0.1111111111111111,\"#46039f\"],[0.2222222222222222,\"#7201a8\"],[0.3333333333333333,\"#9c179e\"],[0.4444444444444444,\"#bd3786\"],[0.5555555555555556,\"#d8576b\"],[0.6666666666666666,\"#ed7953\"],[0.7777777777777778,\"#fb9f3a\"],[0.8888888888888888,\"#fdca26\"],[1.0,\"#f0f921\"]]}],\"heatmap\":[{\"type\":\"heatmap\",\"colorbar\":{\"outlinewidth\":0,\"ticks\":\"\"},\"colorscale\":[[0.0,\"#0d0887\"],[0.1111111111111111,\"#46039f\"],[0.2222222222222222,\"#7201a8\"],[0.3333333333333333,\"#9c179e\"],[0.4444444444444444,\"#bd3786\"],[0.5555555555555556,\"#d8576b\"],[0.6666666666666666,\"#ed7953\"],[0.7777777777777778,\"#fb9f3a\"],[0.8888888888888888,\"#fdca26\"],[1.0,\"#f0f921\"]]}],\"heatmapgl\":[{\"type\":\"heatmapgl\",\"colorbar\":{\"outlinewidth\":0,\"ticks\":\"\"},\"colorscale\":[[0.0,\"#0d0887\"],[0.1111111111111111,\"#46039f\"],[0.2222222222222222,\"#7201a8\"],[0.3333333333333333,\"#9c179e\"],[0.4444444444444444,\"#bd3786\"],[0.5555555555555556,\"#d8576b\"],[0.6666666666666666,\"#ed7953\"],[0.7777777777777778,\"#fb9f3a\"],[0.8888888888888888,\"#fdca26\"],[1.0,\"#f0f921\"]]}],\"contourcarpet\":[{\"type\":\"contourcarpet\",\"colorbar\":{\"outlinewidth\":0,\"ticks\":\"\"}}],\"contour\":[{\"type\":\"contour\",\"colorbar\":{\"outlinewidth\":0,\"ticks\":\"\"},\"colorscale\":[[0.0,\"#0d0887\"],[0.1111111111111111,\"#46039f\"],[0.2222222222222222,\"#7201a8\"],[0.3333333333333333,\"#9c179e\"],[0.4444444444444444,\"#bd3786\"],[0.5555555555555556,\"#d8576b\"],[0.6666666666666666,\"#ed7953\"],[0.7777777777777778,\"#fb9f3a\"],[0.8888888888888888,\"#fdca26\"],[1.0,\"#f0f921\"]]}],\"surface\":[{\"type\":\"surface\",\"colorbar\":{\"outlinewidth\":0,\"ticks\":\"\"},\"colorscale\":[[0.0,\"#0d0887\"],[0.1111111111111111,\"#46039f\"],[0.2222222222222222,\"#7201a8\"],[0.3333333333333333,\"#9c179e\"],[0.4444444444444444,\"#bd3786\"],[0.5555555555555556,\"#d8576b\"],[0.6666666666666666,\"#ed7953\"],[0.7777777777777778,\"#fb9f3a\"],[0.8888888888888888,\"#fdca26\"],[1.0,\"#f0f921\"]]}],\"mesh3d\":[{\"type\":\"mesh3d\",\"colorbar\":{\"outlinewidth\":0,\"ticks\":\"\"}}],\"scatter\":[{\"fillpattern\":{\"fillmode\":\"overlay\",\"size\":10,\"solidity\":0.2},\"type\":\"scatter\"}],\"parcoords\":[{\"type\":\"parcoords\",\"line\":{\"colorbar\":{\"outlinewidth\":0,\"ticks\":\"\"}}}],\"scatterpolargl\":[{\"type\":\"scatterpolargl\",\"marker\":{\"colorbar\":{\"outlinewidth\":0,\"ticks\":\"\"}}}],\"bar\":[{\"error_x\":{\"color\":\"#2a3f5f\"},\"error_y\":{\"color\":\"#2a3f5f\"},\"marker\":{\"line\":{\"color\":\"#E5ECF6\",\"width\":0.5},\"pattern\":{\"fillmode\":\"overlay\",\"size\":10,\"solidity\":0.2}},\"type\":\"bar\"}],\"scattergeo\":[{\"type\":\"scattergeo\",\"marker\":{\"colorbar\":{\"outlinewidth\":0,\"ticks\":\"\"}}}],\"scatterpolar\":[{\"type\":\"scatterpolar\",\"marker\":{\"colorbar\":{\"outlinewidth\":0,\"ticks\":\"\"}}}],\"histogram\":[{\"marker\":{\"pattern\":{\"fillmode\":\"overlay\",\"size\":10,\"solidity\":0.2}},\"type\":\"histogram\"}],\"scattergl\":[{\"type\":\"scattergl\",\"marker\":{\"colorbar\":{\"outlinewidth\":0,\"ticks\":\"\"}}}],\"scatter3d\":[{\"type\":\"scatter3d\",\"line\":{\"colorbar\":{\"outlinewidth\":0,\"ticks\":\"\"}},\"marker\":{\"colorbar\":{\"outlinewidth\":0,\"ticks\":\"\"}}}],\"scattermapbox\":[{\"type\":\"scattermapbox\",\"marker\":{\"colorbar\":{\"outlinewidth\":0,\"ticks\":\"\"}}}],\"scatterternary\":[{\"type\":\"scatterternary\",\"marker\":{\"colorbar\":{\"outlinewidth\":0,\"ticks\":\"\"}}}],\"scattercarpet\":[{\"type\":\"scattercarpet\",\"marker\":{\"colorbar\":{\"outlinewidth\":0,\"ticks\":\"\"}}}],\"carpet\":[{\"aaxis\":{\"endlinecolor\":\"#2a3f5f\",\"gridcolor\":\"white\",\"linecolor\":\"white\",\"minorgridcolor\":\"white\",\"startlinecolor\":\"#2a3f5f\"},\"baxis\":{\"endlinecolor\":\"#2a3f5f\",\"gridcolor\":\"white\",\"linecolor\":\"white\",\"minorgridcolor\":\"white\",\"startlinecolor\":\"#2a3f5f\"},\"type\":\"carpet\"}],\"table\":[{\"cells\":{\"fill\":{\"color\":\"#EBF0F8\"},\"line\":{\"color\":\"white\"}},\"header\":{\"fill\":{\"color\":\"#C8D4E3\"},\"line\":{\"color\":\"white\"}},\"type\":\"table\"}],\"barpolar\":[{\"marker\":{\"line\":{\"color\":\"#E5ECF6\",\"width\":0.5},\"pattern\":{\"fillmode\":\"overlay\",\"size\":10,\"solidity\":0.2}},\"type\":\"barpolar\"}],\"pie\":[{\"automargin\":true,\"type\":\"pie\"}]},\"layout\":{\"autotypenumbers\":\"strict\",\"colorway\":[\"#636efa\",\"#EF553B\",\"#00cc96\",\"#ab63fa\",\"#FFA15A\",\"#19d3f3\",\"#FF6692\",\"#B6E880\",\"#FF97FF\",\"#FECB52\"],\"font\":{\"color\":\"#2a3f5f\"},\"hovermode\":\"closest\",\"hoverlabel\":{\"align\":\"left\"},\"paper_bgcolor\":\"white\",\"plot_bgcolor\":\"#E5ECF6\",\"polar\":{\"bgcolor\":\"#E5ECF6\",\"angularaxis\":{\"gridcolor\":\"white\",\"linecolor\":\"white\",\"ticks\":\"\"},\"radialaxis\":{\"gridcolor\":\"white\",\"linecolor\":\"white\",\"ticks\":\"\"}},\"ternary\":{\"bgcolor\":\"#E5ECF6\",\"aaxis\":{\"gridcolor\":\"white\",\"linecolor\":\"white\",\"ticks\":\"\"},\"baxis\":{\"gridcolor\":\"white\",\"linecolor\":\"white\",\"ticks\":\"\"},\"caxis\":{\"gridcolor\":\"white\",\"linecolor\":\"white\",\"ticks\":\"\"}},\"coloraxis\":{\"colorbar\":{\"outlinewidth\":0,\"ticks\":\"\"}},\"colorscale\":{\"sequential\":[[0.0,\"#0d0887\"],[0.1111111111111111,\"#46039f\"],[0.2222222222222222,\"#7201a8\"],[0.3333333333333333,\"#9c179e\"],[0.4444444444444444,\"#bd3786\"],[0.5555555555555556,\"#d8576b\"],[0.6666666666666666,\"#ed7953\"],[0.7777777777777778,\"#fb9f3a\"],[0.8888888888888888,\"#fdca26\"],[1.0,\"#f0f921\"]],\"sequentialminus\":[[0.0,\"#0d0887\"],[0.1111111111111111,\"#46039f\"],[0.2222222222222222,\"#7201a8\"],[0.3333333333333333,\"#9c179e\"],[0.4444444444444444,\"#bd3786\"],[0.5555555555555556,\"#d8576b\"],[0.6666666666666666,\"#ed7953\"],[0.7777777777777778,\"#fb9f3a\"],[0.8888888888888888,\"#fdca26\"],[1.0,\"#f0f921\"]],\"diverging\":[[0,\"#8e0152\"],[0.1,\"#c51b7d\"],[0.2,\"#de77ae\"],[0.3,\"#f1b6da\"],[0.4,\"#fde0ef\"],[0.5,\"#f7f7f7\"],[0.6,\"#e6f5d0\"],[0.7,\"#b8e186\"],[0.8,\"#7fbc41\"],[0.9,\"#4d9221\"],[1,\"#276419\"]]},\"xaxis\":{\"gridcolor\":\"white\",\"linecolor\":\"white\",\"ticks\":\"\",\"title\":{\"standoff\":15},\"zerolinecolor\":\"white\",\"automargin\":true,\"zerolinewidth\":2},\"yaxis\":{\"gridcolor\":\"white\",\"linecolor\":\"white\",\"ticks\":\"\",\"title\":{\"standoff\":15},\"zerolinecolor\":\"white\",\"automargin\":true,\"zerolinewidth\":2},\"scene\":{\"xaxis\":{\"backgroundcolor\":\"#E5ECF6\",\"gridcolor\":\"white\",\"linecolor\":\"white\",\"showbackground\":true,\"ticks\":\"\",\"zerolinecolor\":\"white\",\"gridwidth\":2},\"yaxis\":{\"backgroundcolor\":\"#E5ECF6\",\"gridcolor\":\"white\",\"linecolor\":\"white\",\"showbackground\":true,\"ticks\":\"\",\"zerolinecolor\":\"white\",\"gridwidth\":2},\"zaxis\":{\"backgroundcolor\":\"#E5ECF6\",\"gridcolor\":\"white\",\"linecolor\":\"white\",\"showbackground\":true,\"ticks\":\"\",\"zerolinecolor\":\"white\",\"gridwidth\":2}},\"shapedefaults\":{\"line\":{\"color\":\"#2a3f5f\"}},\"annotationdefaults\":{\"arrowcolor\":\"#2a3f5f\",\"arrowhead\":0,\"arrowwidth\":1},\"geo\":{\"bgcolor\":\"white\",\"landcolor\":\"#E5ECF6\",\"subunitcolor\":\"white\",\"showland\":true,\"showlakes\":true,\"lakecolor\":\"white\"},\"title\":{\"x\":0.05},\"mapbox\":{\"style\":\"light\"}}},\"polar\":{\"radialaxis\":{\"visible\":true,\"range\":[0,1]}},\"title\":{\"text\":\"Gender-Based Differences in Environmental Impact by Diet Group\"},\"showlegend\":true},                        {\"responsive\": true}                    ).then(function(){\n",
              "                            \n",
              "var gd = document.getElementById('126025cc-e3b5-4b43-9065-7ba3d3244fda');\n",
              "var x = new MutationObserver(function (mutations, observer) {{\n",
              "        var display = window.getComputedStyle(gd).display;\n",
              "        if (!display || display === 'none') {{\n",
              "            console.log([gd, 'removed!']);\n",
              "            Plotly.purge(gd);\n",
              "            observer.disconnect();\n",
              "        }}\n",
              "}});\n",
              "\n",
              "// Listen for the removal of the full notebook cells\n",
              "var notebookContainer = gd.closest('#notebook-container');\n",
              "if (notebookContainer) {{\n",
              "    x.observe(notebookContainer, {childList: true});\n",
              "}}\n",
              "\n",
              "// Listen for the clearing of the current output cell\n",
              "var outputEl = gd.closest('.output');\n",
              "if (outputEl) {{\n",
              "    x.observe(outputEl, {childList: true});\n",
              "}}\n",
              "\n",
              "                        })                };                            </script>        </div>\n",
              "</body>\n",
              "</html>"
            ]
          },
          "metadata": {}
        }
      ],
      "source": [
        "import pandas as pd\n",
        "import plotly.graph_objects as go\n",
        "\n",
        "file = '/content/drive/MyDrive/Dataset/Results_21Mar2022.csv'\n",
        "data = pd.read_csv(file)\n",
        "\n",
        "columns = ['mean_ghgs', 'mean_land', 'mean_watscar', 'mean_eut', 'mean_ghgs_ch4', 'mean_bio', 'mean_watuse', 'mean_acid']\n",
        "data['diet_group'] = data['diet_group'].replace({'meat': 'meat eaters', 'meat50': 'meat eaters', 'meat100': 'meat eaters'})\n",
        "impact_gender_diet = data.groupby(['diet_group', 'sex'])[columns].mean().reset_index()\n",
        "print(impact_gender_diet)\n",
        "impact_gender_diet[columns] = (impact_gender_diet[columns] - impact_gender_diet[columns].min()) / (impact_gender_diet[columns].max() - impact_gender_diet[columns].min())\n",
        "fig = go.Figure()\n",
        "for diet_group in impact_gender_diet['diet_group'].unique():\n",
        "    if diet_group == \"vegan\":\n",
        "        continue\n",
        "    for gender in impact_gender_diet['sex'].unique():\n",
        "        data_filtered= impact_gender_diet[\n",
        "            (impact_gender_diet['diet_group'] == diet_group) &\n",
        "            (impact_gender_diet['sex'] == gender)\n",
        "        ]\n",
        "        if not data_filtered.empty:\n",
        "            values = data_filtered[columns].values.flatten().tolist()\n",
        "            values += values[:1]\n",
        "            color_map = {\n",
        "                'fish': 'blue',\n",
        "                'meat eaters': 'red',\n",
        "                'veggie': 'green'\n",
        "            }\n",
        "            color = color_map.get(diet_group, 'black')\n",
        "            line_style = 'solid' if gender == 'male' else 'dash'\n",
        "            fig.add_trace(go.Scatterpolar(\n",
        "                r=values,\n",
        "                theta=columns + [columns[0]],\n",
        "                name=f\"{diet_group} - {gender}\",\n",
        "                line=dict(color=color, width=3, dash=line_style),\n",
        "                mode='lines+markers',\n",
        "                marker=dict(size=6)\n",
        "            ))\n",
        "fig.update_layout(\n",
        "    title=\"Gender-Based Differences in Environmental Impact by Diet Group\",\n",
        "    polar=dict(\n",
        "        radialaxis=dict(\n",
        "            visible=True,\n",
        "            range=[0, 1]\n",
        "        )\n",
        "    ),\n",
        "    showlegend=True\n",
        ")\n",
        "fig.show()\n"
      ]
    }
  ]
}